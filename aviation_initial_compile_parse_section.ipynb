{
 "cells": [
  {
   "cell_type": "code",
   "execution_count": 2,
   "metadata": {},
   "outputs": [],
   "source": [
    "from docx import Document\n",
    "import pandas as pd\n",
    "import os"
   ]
  },
  {
   "cell_type": "code",
   "execution_count": null,
   "metadata": {},
   "outputs": [],
   "source": [
    "def get_synopses(full_text):\n",
    "    return full_text[full_text.find('Report Synopses'):full_text.find('Report Narratives')]\n",
    "\n",
    "def get_narratives(full_text):\n",
    "    return full_text[full_text.find('Report Narratives'):]"
   ]
  },
  {
   "cell_type": "code",
   "execution_count": null,
   "metadata": {},
   "outputs": [],
   "source": [
    "def get_synopses_list_and_string(synopses_split):\n",
    "    synopses_list = list()\n",
    "    synopsis_string = ''\n",
    "    for synopsis in synopses_split:\n",
    "            synopsis = synopsis[synopsis.find('50)')+11:]\n",
    "            synopses_list.append(synopsis.lower())\n",
    "    synopses_list.pop(0)\n",
    "    return synopses_list"
   ]
  },
  {
   "cell_type": "code",
   "execution_count": null,
   "metadata": {},
   "outputs": [],
   "source": [
    "def get_narratives_list_and_string(narratives_split):\n",
    "    narratives_list = list()\n",
    "    narratives_string = ''\n",
    "    for narrative in narratives_split:\n",
    "            narrative = narrative[narrative.find('50)')+3:]\n",
    "            narratives_list.append(narrative.lower())\n",
    "    narratives_list.pop(0)\n",
    "    return narratives_list"
   ]
  },
  {
   "cell_type": "code",
   "execution_count": null,
   "metadata": {},
   "outputs": [],
   "source": [
    "def process_data(file):\n",
    "    file = './aviation_docx_data/' + file\n",
    "    print(file)\n",
    "    doc = Document(file)\n",
    "    full_text = \"\"\n",
    "    for paragraph in doc.paragraphs:\n",
    "        full_text += paragraph.text\n",
    "    \n",
    "    synopses = get_synopses(full_text)\n",
    "    narratives = get_narratives(full_text)\n",
    "    \n",
    "    synopses_split = synopses.split(\"ACN:\")\n",
    "    narratives_split = narratives.split(\"ACN:\")\n",
    "    \n",
    "    synopses_list = get_synopses_list_and_string(synopses_split)\n",
    "    narratives_list = get_narratives_list_and_string(narratives_split)\n",
    "    \n",
    "    df = pd.DataFrame()\n",
    "    df['narratives'] = narratives_list\n",
    "    df['synopses'] = synopses_list\n",
    "    df['type'] = file[21:-5]\n",
    "    \n",
    "    return df"
   ]
  },
  {
   "cell_type": "code",
   "execution_count": null,
   "metadata": {},
   "outputs": [],
   "source": [
    "all_data = os.listdir(\"./aviation_docx_data/\")\n",
    "df = pd.DataFrame()\n",
    "\n",
    "for file in all_data:\n",
    "    cur_df = process_data(file)\n",
    "    df = df.append(cur_df)"
   ]
  },
  {
   "cell_type": "code",
   "execution_count": null,
   "metadata": {
    "scrolled": true
   },
   "outputs": [],
   "source": [
    "df"
   ]
  },
  {
   "cell_type": "code",
   "execution_count": null,
   "metadata": {},
   "outputs": [],
   "source": [
    "df.to_csv('aggregate_nasa_data.csv')"
   ]
  },
  {
   "cell_type": "code",
   "execution_count": null,
   "metadata": {},
   "outputs": [],
   "source": []
  }
 ],
 "metadata": {
  "kernelspec": {
   "display_name": "Python 3",
   "language": "python",
   "name": "python3"
  },
  "language_info": {
   "codemirror_mode": {
    "name": "ipython",
    "version": 3
   },
   "file_extension": ".py",
   "mimetype": "text/x-python",
   "name": "python",
   "nbconvert_exporter": "python",
   "pygments_lexer": "ipython3",
   "version": "3.7.0"
  }
 },
 "nbformat": 4,
 "nbformat_minor": 2
}
