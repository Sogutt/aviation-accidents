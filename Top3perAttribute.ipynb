{
 "cells": [
  {
   "cell_type": "code",
   "execution_count": 12,
   "metadata": {
    "scrolled": true
   },
   "outputs": [
    {
     "name": "stderr",
     "output_type": "stream",
     "text": [
      "c:\\users\\rickyf~1\\desktop\\cs506env\\env\\lib\\site-packages\\IPython\\core\\interactiveshell.py:2785: DtypeWarning: Columns (12,14) have mixed types. Specify dtype option on import or set low_memory=False.\n",
      "  interactivity=interactivity, compiler=compiler, result=result)\n"
     ]
    },
    {
     "data": {
      "text/plain": [
       "['AIDS Report Number',\n",
       " 'Local Event Date',\n",
       " 'Event City',\n",
       " 'Event State',\n",
       " 'Event Airport',\n",
       " 'Event Type',\n",
       " 'Aircraft Damage',\n",
       " 'Flight Phase',\n",
       " 'Aircraft Make',\n",
       " 'Aircraft Model',\n",
       " 'Aircraft Series',\n",
       " 'Operator',\n",
       " 'Primary Flight Type',\n",
       " 'Flight Conduct Code',\n",
       " 'Flight Plan Filed Code',\n",
       " 'Aircraft Registration Nbr',\n",
       " 'Total Fatalities',\n",
       " 'Total Injuries',\n",
       " 'Aircraft Engine Make',\n",
       " 'Aircraft Engine Model',\n",
       " 'Engine Group Code',\n",
       " 'Nbr of Engines',\n",
       " 'PIC Certificate Type',\n",
       " 'PIC Flight Time Total Hrs',\n",
       " 'PIC Flight Time Total Make-Model',\n",
       " ' ',\n",
       " ' .1']"
      ]
     },
     "execution_count": 12,
     "metadata": {},
     "output_type": "execute_result"
    }
   ],
   "source": [
    "# Goal: compile the most common value per attribute\n",
    "# This will tell us what the most common 'Aircraft', 'Location', 'Time' etc... \n",
    "# is within this accident dataset.\n",
    "# By sorting these we can then try to see whether the top value from each attribute seems to \n",
    "# show up significantly more than others\n",
    "\n",
    "# While this is not entirely significant, due to no way to normalize the data,\n",
    "# it is interesting to see and can act as a starting point for further analysis:\n",
    "import pandas as pd\n",
    "import matplotlib.pyplot as plt\n",
    "df = pd.read_csv('AIDS_REPORTS.csv')\n",
    "df\n",
    "list(df)"
   ]
  },
  {
   "cell_type": "code",
   "execution_count": 13,
   "metadata": {},
   "outputs": [
    {
     "data": {
      "text/plain": [
       "CESSNA    26571\n",
       "PIPER     17602\n",
       "BEECH      9943\n",
       "Name: Aircraft Make, dtype: int64"
      ]
     },
     "execution_count": 13,
     "metadata": {},
     "output_type": "execute_result"
    }
   ],
   "source": [
    "df['Aircraft Make'].value_counts()[0:3] #look at top 3"
   ]
  },
  {
   "cell_type": "code",
   "execution_count": 14,
   "metadata": {},
   "outputs": [],
   "source": [
    "# removing irrelevant columns:\n",
    "columns = list(df.columns)\n",
    "columns.remove('AIDS Report Number')\n",
    "columns.remove(' ')\n",
    "columns.remove(' .1')\n",
    "columns.remove('Aircraft Registration Nbr')\n",
    "columns.remove('Total Fatalities')\n",
    "columns.remove('Local Event Date')\n",
    "columns.remove('Event Type')\n",
    "columns.remove('Total Injuries')\n",
    "#columns.remove('')\n",
    "#print(columns)"
   ]
  },
  {
   "cell_type": "code",
   "execution_count": 31,
   "metadata": {},
   "outputs": [
    {
     "name": "stdout",
     "output_type": "stream",
     "text": [
      "For Event City, the top 3 are:\n",
      "CHICAGO         1817\n",
      "HOUSTON         1007\n",
      "KANSAS CITY      982\n",
      "SAINT LOUIS      862\n",
      "PITTSBURGH       828\n",
      "ROCHESTER        774\n",
      "DENVER           743\n",
      "LAS VEGAS        670\n",
      "INDIANAPOLIS     666\n",
      "DALLAS           655\n",
      "Name: Event City, dtype: int64\n",
      "\n",
      "For Event State, the top 3 are:\n",
      "CA    10377\n",
      "TX     7639\n",
      "FL     6297\n",
      "NY     5036\n",
      "IL     4023\n",
      "PA     3525\n",
      "OH     3203\n",
      "AK     3190\n",
      "MO     2973\n",
      "MI     2870\n",
      "Name: Event State, dtype: int64\n",
      "\n",
      "For Event Airport, the top 3 are:\n",
      "CHICAGO O'HARE INTL                   1272\n",
      "KANSAS CITY INTL                       728\n",
      "LAMBERT-ST LOUIS INTL                  702\n",
      "PITTSBURGH INTL                        641\n",
      "GENERAL EDWARD LAWRENCE LOGAN INTL     620\n",
      "GREATER ROCHESTER INTL                 549\n",
      "EPPLEY AIRFIELD                        525\n",
      "SYRACUSE HANCOCK INTL                  512\n",
      "INDIANAPOLIS INTL                      499\n",
      "SALT LAKE CITY INTL                    482\n",
      "Name: Event Airport, dtype: int64\n",
      "\n",
      "For Aircraft Damage, the top 3 are:\n",
      "MINOR          65337\n",
      "NONE            2788\n",
      "SUBSTANTIAL     2765\n",
      "UNKNOWN          155\n",
      "DESTROYED        153\n",
      "Name: Aircraft Damage, dtype: int64\n",
      "\n",
      "For Flight Phase, the top 3 are:\n",
      "LEVEL OFF TOUCHDOWN                       17084\n",
      "ROLL-OUT (FIXED WING)                     16224\n",
      "FCD/PREC LDG FROM CRUISE                   9523\n",
      "NORMAL CRUISE                              9244\n",
      "GROUND TAXI, OTHER AIRPLANE                7666\n",
      "CLIMB                                      3716\n",
      "TAKEOFF GROUND ROLL                        2970\n",
      "FORCED/PRECAUTIONARY LANDING               2952\n",
      "TO INITIAL CLIMB (1ST POWER REDUCTION)     2826\n",
      "FINAL APPROACH                             2725\n",
      "Name: Flight Phase, dtype: int64\n",
      "\n",
      "For Aircraft Make, the top 3 are:\n",
      "CESSNA                      26571\n",
      "PIPER                       17602\n",
      "BEECH                        9943\n",
      "BOEING                       7513\n",
      "MCDONNELL-DOUGLAS-BOEING     4109\n",
      "MOONEY                       3183\n",
      "GULSTM                       1841\n",
      "BLANCA                       1758\n",
      "RAYTHEON                     1254\n",
      "BELL                         1205\n",
      "Name: Aircraft Make, dtype: int64\n",
      "\n",
      "For Aircraft Model, the top 3 are:\n",
      "CE-172    5382\n",
      "PA-28     4282\n",
      "727       3442\n",
      "CE-210    3308\n",
      "M-20      3142\n",
      "CE-182    2763\n",
      "CE-150    2579\n",
      "BE-35     2487\n",
      "CE-152    2464\n",
      "737       1964\n",
      "Name: Aircraft Model, dtype: int64\n",
      "\n",
      "For Aircraft Series, the top 3 are:\n",
      "200           4016\n",
      "CE-172-N      1216\n",
      "PA-28-140     1130\n",
      "100            964\n",
      "PA-28R-200     899\n",
      "PA-23-250      857\n",
      "PA-28-161      851\n",
      "300            846\n",
      "CE-177-RG      832\n",
      "CE-172-M       788\n",
      "Name: Aircraft Series, dtype: int64\n",
      "\n",
      "For Operator, the top 3 are:\n",
      "AMERICAN AIRLINES INC       1509\n",
      "DELTA AIR LINES INC         1399\n",
      "UNITED AIR LINES INC        1150\n",
      "US AIRWAYS INC               861\n",
      "CONTINENTAL AIRLINES INC     838\n",
      "NORTHWEST AIRLINES INC       806\n",
      "TRANS WORLD AIRLINES INC     752\n",
      "EASTERN AIR LINES INC        559\n",
      "AIR MIDWEST INC              363\n",
      "ALLEGHENY AIRLINES INC       346\n",
      "Name: Operator, dtype: int64\n",
      "\n",
      "For Primary Flight Type, the top 3 are:\n",
      "PERSONAL                                                       40544\n",
      "SCHEDULED AIR CARRIER                                          12684\n",
      "INSTRUCTION                                                     9732\n",
      "AIR TAXI (NON-SCHEDULED)                                        5573\n",
      "BUSINESS                                                        5211\n",
      "AIR TAXI COMMUTER (SCHEDULED 5 OR MORE ROUNDTRIPS PER WEEK)     3897\n",
      "OTHER                                                           3781\n",
      "EXECUTIVE                                                       2408\n",
      "SUPPLEMENTAL OR COMMERCIAL OPERATOR                             1952\n",
      "AERIAL APPLICATOR                                               1208\n",
      "Name: Primary Flight Type, dtype: int64\n",
      "\n",
      "For Flight Conduct Code, the top 3 are:\n",
      "GENERAL OPERATING RULES                69912\n",
      "AIR CARRIER/COMMERCIAL                 16011\n",
      "AIR TAXI/COMMUTER                      10094\n",
      "AGRICULTURAL                            1278\n",
      "PARACHUTE JUMPING                        972\n",
      "PILOT SCHOOLS                            922\n",
      "FOREIGN AIR CARRIER                      436\n",
      "ROTORCRAFT EXTERNAL LOAD OPERATIONS       98\n",
      "PART 125 OPERATOR                         66\n",
      "ULTRALIGHT VEHICLES                       60\n",
      "Name: Flight Conduct Code, dtype: int64\n",
      "\n",
      "For Flight Plan Filed Code, the top 3 are:\n",
      "NONE                           35771\n",
      "INSTRUMENT FLIGHT RULES        25814\n",
      "UNKNOWN                        15527\n",
      "VISUAL FLIGHT RULES             9633\n",
      "AIR TAXI FLIGHT FOLLOWING        204\n",
      "SPECIAL VISUAL FLIGHT RULES       42\n",
      "DEFENSE VISUAL FLIGHT RULES       40\n",
      "VISUAL FLIGHT FOLLOWING           32\n",
      "MILITARY CONTROL                  23\n",
      "VISUAL FLIGHT RULES ON TOP         2\n",
      "Name: Flight Plan Filed Code, dtype: int64\n",
      "\n",
      "For Aircraft Engine Make, the top 3 are:\n",
      "LYC       10655\n",
      "CONT       9125\n",
      "PWA        4785\n",
      "LYCOMI     2910\n",
      "CONT M     2019\n",
      "GE         1168\n",
      "GARRTT      767\n",
      "ALLSN       700\n",
      "ROTAX       562\n",
      "RROYCE      415\n",
      "Name: Aircraft Engine Make, dtype: int64\n",
      "\n",
      "For Aircraft Engine Model, the top 3 are:\n",
      "O235L2C          1042\n",
      "O200A            1010\n",
      "O320*             710\n",
      "0-320 SERIES      543\n",
      "JT8*              479\n",
      "O360*             474\n",
      "IO520*            467\n",
      "TPE331*           416\n",
      "IO 520 SERIES     371\n",
      "IO540*            369\n",
      "Name: Aircraft Engine Model, dtype: int64\n",
      "\n",
      "For Engine Group Code, the top 3 are:\n",
      "O360      4135\n",
      "O520      3622\n",
      "O320      2791\n",
      "O540      2445\n",
      "JT8       1686\n",
      "O470      1634\n",
      "O235      1463\n",
      "PT6       1314\n",
      "O200      1184\n",
      "TPE331     907\n",
      "Name: Engine Group Code, dtype: int64\n",
      "\n",
      "For Nbr of Engines, the top 3 are:\n",
      "1.0    54754\n",
      "2.0    31107\n",
      "3.0     4546\n",
      "4.0     1726\n",
      "0.0      871\n",
      "Name: Nbr of Engines, dtype: int64\n",
      "\n",
      "For PIC Certificate Type, the top 3 are:\n",
      "PRIVATE PILOT                                29963\n",
      "AIRLINE TRANSPORT                            23572\n",
      "COMMERCIAL PILOT                             18614\n",
      "COMMERCIAL PILOT FLIGHT INSTRUCTOR            7512\n",
      "STUDENT                                       5780\n",
      "AIRLINE TRANSPORT PILOT FLIGHT INSTRUCTOR     4249\n",
      "UNKNOWN/FOREIGN                               1338\n",
      "PILOT NOT CERTIFICATED                         228\n",
      "PRIVATE PILOT FLIGHT INSTRUCTOR                184\n",
      "RECREATIONAL PILOT                              22\n",
      "Name: PIC Certificate Type, dtype: int64\n",
      "\n",
      "For PIC Flight Time Total Hrs, the top 3 are:\n",
      "0.0       1712\n",
      "3000.0    1147\n",
      "2000.0    1080\n",
      "4000.0    1020\n",
      "5000.0     995\n",
      "1000.0     880\n",
      "1500.0     843\n",
      "6000.0     839\n",
      "2500.0     786\n",
      "500.0      761\n",
      "Name: PIC Flight Time Total Hrs, dtype: int64\n",
      "\n",
      "For PIC Flight Time Total Make-Model, the top 3 are:\n",
      "0.0       8543\n",
      "200.0     2383\n",
      "100.0     2239\n",
      "300.0     2200\n",
      "500.0     2050\n",
      "50.0      1753\n",
      "400.0     1707\n",
      "150.0     1584\n",
      "1000.0    1575\n",
      "250.0     1337\n",
      "Name: PIC Flight Time Total Make-Model, dtype: int64\n",
      "\n"
     ]
    }
   ],
   "source": [
    "for col in columns:\n",
    "    top3 = df[col].value_counts().head(10)\n",
    "    print('For {}, the top 3 are:'.format(col))\n",
    "    print('{}'.format(top3))\n",
    "    print(\"\")"
   ]
  },
  {
   "cell_type": "code",
   "execution_count": 16,
   "metadata": {},
   "outputs": [],
   "source": [
    "# x = df['Nbr of Engines'].value_counts()\n",
    "# x.head(3)"
   ]
  },
  {
   "cell_type": "code",
   "execution_count": 17,
   "metadata": {},
   "outputs": [
    {
     "name": "stdout",
     "output_type": "stream",
     "text": [
      "CESSNA    26571\n",
      "Name: Aircraft Make, dtype: int64\n",
      "CESSNA\n",
      "26571\n"
     ]
    }
   ],
   "source": [
    "airmake = df['Aircraft Make'].value_counts().head(1)\n",
    "print(airmake)\n",
    "print(airmake.index[0])\n",
    "print(airmake[0])\n",
    "#str(df['Aircraft Make'].value_counts().head(1)[0])"
   ]
  },
  {
   "cell_type": "code",
   "execution_count": 18,
   "metadata": {},
   "outputs": [
    {
     "name": "stdout",
     "output_type": "stream",
     "text": [
      "1.0    54754\n",
      "Name: Nbr of Engines, dtype: int64\n",
      "1.0\n",
      "54754\n"
     ]
    }
   ],
   "source": [
    "eng = df['Nbr of Engines'].value_counts().head(1)\n",
    "print(eng)\n",
    "print(eng.index[0])\n",
    "print(eng[1])"
   ]
  },
  {
   "cell_type": "code",
   "execution_count": 19,
   "metadata": {},
   "outputs": [
    {
     "data": {
      "text/plain": [
       "{'Event City , CHICAGO:': 1817,\n",
       " 'Event State , CA:': 10377,\n",
       " \"Event Airport , CHICAGO O'HARE INTL:\": 1272,\n",
       " 'Aircraft Damage , MINOR:': 65337,\n",
       " 'Flight Phase , LEVEL OFF TOUCHDOWN:': 17084,\n",
       " 'Aircraft Make , CESSNA:': 26571,\n",
       " 'Aircraft Model , CE-172:': 5382,\n",
       " 'Aircraft Series , 200:': 4016,\n",
       " 'Operator , AMERICAN AIRLINES INC:': 1509,\n",
       " 'Primary Flight Type , PERSONAL:': 40544,\n",
       " 'Flight Conduct Code , GENERAL OPERATING RULES:': 69912,\n",
       " 'Flight Plan Filed Code , NONE:': 35771,\n",
       " 'Aircraft Engine Make , LYC:': 10655,\n",
       " 'Aircraft Engine Model , O235L2C:': 1042,\n",
       " 'Engine Group Code , O360:': 4135,\n",
       " 'Nbr of Engines , 1.0:': 871,\n",
       " 'PIC Certificate Type , PRIVATE PILOT:': 29963,\n",
       " 'PIC Flight Time Total Hrs , 0.0:': 1712,\n",
       " 'PIC Flight Time Total Make-Model , 0.0:': 8543}"
      ]
     },
     "execution_count": 19,
     "metadata": {},
     "output_type": "execute_result"
    }
   ],
   "source": [
    "Dict = {}\n",
    "for col in columns:\n",
    "    cur = df[col].value_counts()\n",
    "    curind = cur.index[0]\n",
    "    curnum = cur[0]\n",
    "    key = col + ' , ' + str(curind) + ':'\n",
    "    Dict[key] = (curnum)\n",
    "    #Dict[col] = (curind,curnum)\n",
    "Dict"
   ]
  },
  {
   "cell_type": "code",
   "execution_count": 24,
   "metadata": {},
   "outputs": [
    {
     "data": {
      "text/plain": [
       "<BarContainer object of 19 artists>"
      ]
     },
     "execution_count": 24,
     "metadata": {},
     "output_type": "execute_result"
    },
    {
     "data": {
      "image/png": "[encoded data removed]",
      "text/plain": [
       "<Figure size 432x288 with 1 Axes>"
      ]
     },
     "metadata": {
      "needs_background": "light"
     },
     "output_type": "display_data"
    }
   ],
   "source": [
    "plt.bar(Dict.keys(), Dict.values(), color='g')"
   ]
  },
  {
   "cell_type": "code",
   "execution_count": 9,
   "metadata": {},
   "outputs": [
    {
     "name": "stdout",
     "output_type": "stream",
     "text": [
      "Flight Conduct Code , GENERAL OPERATING RULES: 69912\n",
      "Aircraft Damage , MINOR: 65337\n",
      "Primary Flight Type , PERSONAL: 40544\n",
      "Flight Plan Filed Code , NONE: 35771\n",
      "PIC Certificate Type , PRIVATE PILOT: 29963\n",
      "Aircraft Make , CESSNA: 26571\n",
      "Flight Phase , LEVEL OFF TOUCHDOWN: 17084\n",
      "Aircraft Engine Make , LYC: 10655\n",
      "Event State , CA: 10377\n",
      "PIC Flight Time Total Make-Model , 0.0: 8543\n",
      "Aircraft Model , CE-172: 5382\n",
      "Engine Group Code , O360: 4135\n",
      "Aircraft Series , 200: 4016\n",
      "Event City , CHICAGO: 1817\n",
      "PIC Flight Time Total Hrs , 0.0: 1712\n",
      "Operator , AMERICAN AIRLINES INC: 1509\n",
      "Event Airport , CHICAGO O'HARE INTL: 1272\n",
      "Aircraft Engine Model , O235L2C: 1042\n",
      "Nbr of Engines , 1.0: 871\n"
     ]
    }
   ],
   "source": [
    "s = [(k, Dict[k]) for k in sorted(Dict, key=Dict.get, reverse=True)]\n",
    "for k, v in s:\n",
    "    print(k,v)"
   ]
  },
  {
   "cell_type": "code",
   "execution_count": 10,
   "metadata": {},
   "outputs": [
    {
     "name": "stdout",
     "output_type": "stream",
     "text": [
      "[('Flight Conduct Code , GENERAL OPERATING RULES:', 69912), ('Aircraft Damage , MINOR:', 65337), ('Primary Flight Type , PERSONAL:', 40544), ('Flight Plan Filed Code , NONE:', 35771), ('PIC Certificate Type , PRIVATE PILOT:', 29963), ('Aircraft Make , CESSNA:', 26571), ('Flight Phase , LEVEL OFF TOUCHDOWN:', 17084), ('Aircraft Engine Make , LYC:', 10655), ('Event State , CA:', 10377), ('PIC Flight Time Total Make-Model , 0.0:', 8543), ('Aircraft Model , CE-172:', 5382), ('Engine Group Code , O360:', 4135), ('Aircraft Series , 200:', 4016), ('Event City , CHICAGO:', 1817), ('PIC Flight Time Total Hrs , 0.0:', 1712), ('Operator , AMERICAN AIRLINES INC:', 1509), (\"Event Airport , CHICAGO O'HARE INTL:\", 1272), ('Aircraft Engine Model , O235L2C:', 1042), ('Nbr of Engines , 1.0:', 871)]\n"
     ]
    }
   ],
   "source": [
    "print(s)"
   ]
  },
  {
   "cell_type": "code",
   "execution_count": null,
   "metadata": {},
   "outputs": [],
   "source": []
  }
 ],
 "metadata": {
  "kernelspec": {
   "display_name": "Python 3",
   "language": "python",
   "name": "python3"
  },
  "language_info": {
   "codemirror_mode": {
    "name": "ipython",
    "version": 3
   },
   "file_extension": ".py",
   "mimetype": "text/x-python",
   "name": "python",
   "nbconvert_exporter": "python",
   "pygments_lexer": "ipython3",
   "version": "3.7.0"
  }
 },
 "nbformat": 4,
 "nbformat_minor": 2
}
